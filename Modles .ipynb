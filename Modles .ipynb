{
 "cells": [
  {
   "cell_type": "code",
   "execution_count": 48,
   "id": "9465b3d2",
   "metadata": {},
   "outputs": [],
   "source": [
    "from sklearn.decomposition import PCA\n",
    "import numpy as np\n",
    "import pandas as pd\n",
    "import xgboost as xgb\n",
    "from sklearn.model_selection import train_test_split\n",
    "from sklearn.preprocessing import StandardScaler,MinMaxScaler\n",
    "from sklearn.neighbors import KNeighborsClassifier\n",
    "from sklearn import metrics\n",
    "from sklearn.model_selection import KFold\n",
    "from matplotlib import pyplot as plt\n",
    "from sklearn.tree import DecisionTreeClassifier\n",
    "from sklearn.ensemble import RandomForestClassifier\n",
    "from sklearn.linear_model import LogisticRegression\n",
    "from sklearn.model_selection import cross_val_score\n",
    "import warnings\n",
    "warnings.filterwarnings('ignore')\n",
    "import pandas as pd\n",
    "import numpy as np\n",
    "import seaborn as sns\n",
    "import plotly.express as px\n",
    "from os import path\n",
    "from PIL import Image\n",
    "from wordcloud import WordCloud, STOPWORDS, ImageColorGenerator\n",
    "import matplotlib.pyplot as plt"
   ]
  },
  {
   "cell_type": "code",
   "execution_count": 49,
   "id": "aba3227f",
   "metadata": {},
   "outputs": [
    {
     "data": {
      "text/html": [
       "<div>\n",
       "<style scoped>\n",
       "    .dataframe tbody tr th:only-of-type {\n",
       "        vertical-align: middle;\n",
       "    }\n",
       "\n",
       "    .dataframe tbody tr th {\n",
       "        vertical-align: top;\n",
       "    }\n",
       "\n",
       "    .dataframe thead th {\n",
       "        text-align: right;\n",
       "    }\n",
       "</style>\n",
       "<table border=\"1\" class=\"dataframe\">\n",
       "  <thead>\n",
       "    <tr style=\"text-align: right;\">\n",
       "      <th></th>\n",
       "      <th>Tender Type</th>\n",
       "      <th>Regions</th>\n",
       "      <th>Conditionsbookletprice</th>\n",
       "      <th>Tender Status</th>\n",
       "      <th>Invitation Type</th>\n",
       "      <th>Submitiondate</th>\n",
       "      <th>Lastofferpresentationdate</th>\n",
       "      <th>Activity Name</th>\n",
       "      <th>Estimatedvalue</th>\n",
       "      <th>Invit Count</th>\n",
       "      <th>categories_count</th>\n",
       "      <th>regions_count</th>\n",
       "      <th>latest_awarding_date</th>\n",
       "    </tr>\n",
       "  </thead>\n",
       "  <tbody>\n",
       "    <tr>\n",
       "      <th>0</th>\n",
       "      <td>Direct purchase</td>\n",
       "      <td>city11</td>\n",
       "      <td>0.0</td>\n",
       "      <td>completed</td>\n",
       "      <td>private</td>\n",
       "      <td>2019-12-18 13:51:58.332</td>\n",
       "      <td>2019-12-23 00:00:00</td>\n",
       "      <td>Trade of tools, machines and devices</td>\n",
       "      <td>19444.444444</td>\n",
       "      <td>7</td>\n",
       "      <td>2</td>\n",
       "      <td>1</td>\n",
       "      <td>2020-02-13 13:18:27</td>\n",
       "    </tr>\n",
       "    <tr>\n",
       "      <th>1</th>\n",
       "      <td>Direct purchase</td>\n",
       "      <td>city11</td>\n",
       "      <td>0.0</td>\n",
       "      <td>completed</td>\n",
       "      <td>private</td>\n",
       "      <td>2019-12-18 13:51:58.332</td>\n",
       "      <td>2019-12-23 00:00:00</td>\n",
       "      <td>information technology</td>\n",
       "      <td>19444.444444</td>\n",
       "      <td>7</td>\n",
       "      <td>2</td>\n",
       "      <td>1</td>\n",
       "      <td>2020-02-13 13:18:27</td>\n",
       "    </tr>\n",
       "    <tr>\n",
       "      <th>2</th>\n",
       "      <td>Direct purchase</td>\n",
       "      <td>city11</td>\n",
       "      <td>0.0</td>\n",
       "      <td>completed</td>\n",
       "      <td>private</td>\n",
       "      <td>2019-12-22 12:53:07.624</td>\n",
       "      <td>2019-12-31 00:00:00</td>\n",
       "      <td>Insurance Activities</td>\n",
       "      <td>32777.777778</td>\n",
       "      <td>7</td>\n",
       "      <td>1</td>\n",
       "      <td>1</td>\n",
       "      <td>2020-02-13 13:12:54</td>\n",
       "    </tr>\n",
       "    <tr>\n",
       "      <th>3</th>\n",
       "      <td>Limited tender</td>\n",
       "      <td>city11</td>\n",
       "      <td>0.0</td>\n",
       "      <td>completed</td>\n",
       "      <td>private</td>\n",
       "      <td>2019-12-23 19:37:15.997</td>\n",
       "      <td>2019-12-26 00:00:00</td>\n",
       "      <td>Trade of tools, machines and devices</td>\n",
       "      <td>179444.444444</td>\n",
       "      <td>5</td>\n",
       "      <td>3</td>\n",
       "      <td>1</td>\n",
       "      <td>2020-02-20 17:47:36</td>\n",
       "    </tr>\n",
       "    <tr>\n",
       "      <th>4</th>\n",
       "      <td>Limited tender</td>\n",
       "      <td>city11</td>\n",
       "      <td>0.0</td>\n",
       "      <td>completed</td>\n",
       "      <td>private</td>\n",
       "      <td>2019-12-23 19:37:15.997</td>\n",
       "      <td>2019-12-26 00:00:00</td>\n",
       "      <td>Trading of utensils and household appliances</td>\n",
       "      <td>179444.444444</td>\n",
       "      <td>5</td>\n",
       "      <td>3</td>\n",
       "      <td>1</td>\n",
       "      <td>2020-02-20 17:47:36</td>\n",
       "    </tr>\n",
       "  </tbody>\n",
       "</table>\n",
       "</div>"
      ],
      "text/plain": [
       "       Tender Type  Regions  Conditionsbookletprice Tender Status  \\\n",
       "0  Direct purchase   city11                     0.0     completed   \n",
       "1  Direct purchase   city11                     0.0     completed   \n",
       "2  Direct purchase   city11                     0.0     completed   \n",
       "3   Limited tender   city11                     0.0     completed   \n",
       "4   Limited tender   city11                     0.0     completed   \n",
       "\n",
       "  Invitation Type           Submitiondate Lastofferpresentationdate  \\\n",
       "0         private 2019-12-18 13:51:58.332       2019-12-23 00:00:00   \n",
       "1         private 2019-12-18 13:51:58.332       2019-12-23 00:00:00   \n",
       "2         private 2019-12-22 12:53:07.624       2019-12-31 00:00:00   \n",
       "3         private 2019-12-23 19:37:15.997       2019-12-26 00:00:00   \n",
       "4         private 2019-12-23 19:37:15.997       2019-12-26 00:00:00   \n",
       "\n",
       "                                  Activity Name  Estimatedvalue  Invit Count  \\\n",
       "0          Trade of tools, machines and devices    19444.444444            7   \n",
       "1                        information technology    19444.444444            7   \n",
       "2                          Insurance Activities    32777.777778            7   \n",
       "3          Trade of tools, machines and devices   179444.444444            5   \n",
       "4  Trading of utensils and household appliances   179444.444444            5   \n",
       "\n",
       "   categories_count  regions_count latest_awarding_date  \n",
       "0                 2              1  2020-02-13 13:18:27  \n",
       "1                 2              1  2020-02-13 13:18:27  \n",
       "2                 1              1  2020-02-13 13:12:54  \n",
       "3                 3              1  2020-02-20 17:47:36  \n",
       "4                 3              1  2020-02-20 17:47:36  "
      ]
     },
     "execution_count": 49,
     "metadata": {},
     "output_type": "execute_result"
    }
   ],
   "source": [
    "\n",
    "#reading data\n",
    "df=pd.read_excel(\"Tenders__.xlsx\")\n",
    "df.head()"
   ]
  },
  {
   "cell_type": "code",
   "execution_count": 50,
   "id": "ce00bda9",
   "metadata": {},
   "outputs": [
    {
     "name": "stdout",
     "output_type": "stream",
     "text": [
      "<class 'pandas.core.frame.DataFrame'>\n",
      "Int64Index: 160384 entries, 0 to 160731\n",
      "Data columns (total 23 columns):\n",
      " #   Column                   Non-Null Count   Dtype  \n",
      "---  ------                   --------------   -----  \n",
      " 0   Tender Type              160384 non-null  object \n",
      " 1   Conditionsbookletprice   160384 non-null  float64\n",
      " 2   Tender Status            160384 non-null  object \n",
      " 3   Activity Name            160384 non-null  object \n",
      " 4   Estimatedvalue           160384 non-null  float64\n",
      " 5   Invit Count              160384 non-null  int64  \n",
      " 6   categories_count         160384 non-null  int64  \n",
      " 7   regions_count            160384 non-null  int64  \n",
      " 8   city11                   160384 non-null  bool   \n",
      " 9   city10                   160384 non-null  bool   \n",
      " 10  city9                    160384 non-null  bool   \n",
      " 11  city8                    160384 non-null  bool   \n",
      " 12  city7                    160384 non-null  bool   \n",
      " 13  city6                    160384 non-null  bool   \n",
      " 14  city5                    160384 non-null  bool   \n",
      " 15  city4                    160384 non-null  bool   \n",
      " 16  city3                    160384 non-null  bool   \n",
      " 17  city2                    160384 non-null  bool   \n",
      " 18  city12                   160384 non-null  bool   \n",
      " 19  city13                   160384 non-null  bool   \n",
      " 20  city1                    160384 non-null  bool   \n",
      " 21  Invitation_Type_private  160384 non-null  uint8  \n",
      " 22  Invitation_Type_public   160384 non-null  uint8  \n",
      "dtypes: bool(13), float64(2), int64(3), object(3), uint8(2)\n",
      "memory usage: 13.3+ MB\n"
     ]
    }
   ],
   "source": [
    "df[\"Regions\"]=df[\"Regions\"].fillna(\"No Region\")\n",
    "#fill nulls with 0s\n",
    "df[\"Conditionsbookletprice\"]=df[\"Conditionsbookletprice\"].fillna(0)\n",
    "#fill nulls with No Invite'\n",
    "df[\"Invitation Type\"]=df[\"Invitation Type\"].fillna(\"No Invite\")\n",
    "#fill nulls with 0s\n",
    "df[\"Estimatedvalue\"]=df[\"Estimatedvalue\"].fillna(0)\n",
    "#drop nulls\n",
    "df.dropna(subset=[\"Activity Name\"],inplace=True)\n",
    "#replace spaces \n",
    "df[\"Regions\"]=df[\"Regions\"].str.replace(' ','')\n",
    "df[\"Regions\"].unique()\n",
    "#crete new columns form rows\n",
    "Regions=['city11','city10','city9','city8','city7','city6','city5','city4','city3','city2','city12','city13','city1']\n",
    "for r in Regions:\n",
    "    df[r]=df[\"Regions\"].str.contains(r)\n",
    "    \n",
    "df.drop(inplace=True,axis=1,columns=[\"Regions\"])\n",
    "#df.drop(axis=1,columns=[\"Submitiondate\",\"Lastofferpresentationdate\",\"Activity Name\",\"latest_awarding_date\"], inplace=True)\n",
    "df.drop(axis=1,columns=[\"Submitiondate\",\"Lastofferpresentationdate\",\"latest_awarding_date\"], inplace=True)\n",
    "\n",
    "df=pd.get_dummies(df,columns=[\"Invitation Type\"], prefix='Invitation_Type',drop_first=True)\n",
    "df.info()\n"
   ]
  },
  {
   "cell_type": "code",
   "execution_count": 51,
   "id": "fe5262e7",
   "metadata": {},
   "outputs": [],
   "source": [
    "def get_invitations_group_status(inv_count):\n",
    "    if inv_count==0:\n",
    "        return \"no_invitations\"\n",
    "    elif inv_count>0 and inv_count<50:\n",
    "        return \"invitations_less_50\"\n",
    "    elif inv_count>50 and inv_count<100:\n",
    "        return \"invitations_bet_50_100\"\n",
    "    elif inv_count>100 and inv_count<150:\n",
    "        return \"invitations_bet_100_150\"\n",
    "    elif inv_count>150 and inv_count<200:\n",
    "         return \"invitations_bet_150_200\"\n",
    "    else:\n",
    "        return \"invitations_more_200\"\n",
    "    \n",
    "df[\"invitations_group\"]=df[\"Invit Count\"].apply(get_invitations_group_status)\n",
    "\n",
    "def get_Conditionsbookletprice_group_status(price):\n",
    "    if price==0:\n",
    "        return \"no_bookletprice\"\n",
    "    elif price>0 and price<100:\n",
    "        return \"bookletprice_less_100\"\n",
    "    elif price>100 and price<100000:\n",
    "        return \"bookletprice_bet_100_100k\"\n",
    "    else:\n",
    "        return \"bookletprice_more_100k\"\n",
    "df[\"booklet_price_group\"]=df[\"Conditionsbookletprice\"].apply(get_Conditionsbookletprice_group_status)\n",
    "\n",
    "def get_Estimatedvalue_status(Estimatedvalue):\n",
    "    if Estimatedvalue==0:\n",
    "        return \"no_Estimatedvalue\"\n",
    "    elif Estimatedvalue<100000:\n",
    "        return \"Estimatedvalue_less_100k\"\n",
    "    elif Estimatedvalue>100000 and Estimatedvalue<1000000:\n",
    "        return \"Estimatedvalue_bet_100k_1m\"\n",
    "    elif Estimatedvalue>1000000 and Estimatedvalue<10000000:\n",
    "        return \"Estimatedvalue_bet_1m_10m\"\n",
    "    else:\n",
    "        return \"Estimatedvalue_more_10m\"\n",
    "df[\"Estimatedvalue_group\"]=df[\"Estimatedvalue\"].apply(get_Estimatedvalue_status)"
   ]
  },
  {
   "cell_type": "code",
   "execution_count": 52,
   "id": "2721c263",
   "metadata": {},
   "outputs": [],
   "source": [
    "df.drop(columns=[\"Estimatedvalue\",\"Invit Count\",\"Conditionsbookletprice\"],inplace=True)"
   ]
  },
  {
   "cell_type": "code",
   "execution_count": 53,
   "id": "9a71d2ba",
   "metadata": {},
   "outputs": [
    {
     "name": "stdout",
     "output_type": "stream",
     "text": [
      "<class 'pandas.core.frame.DataFrame'>\n",
      "Int64Index: 160384 entries, 0 to 160731\n",
      "Data columns (total 23 columns):\n",
      " #   Column                   Non-Null Count   Dtype \n",
      "---  ------                   --------------   ----- \n",
      " 0   Tender Type              160384 non-null  object\n",
      " 1   Tender Status            160384 non-null  object\n",
      " 2   Activity Name            160384 non-null  object\n",
      " 3   categories_count         160384 non-null  int64 \n",
      " 4   regions_count            160384 non-null  int64 \n",
      " 5   city11                   160384 non-null  bool  \n",
      " 6   city10                   160384 non-null  bool  \n",
      " 7   city9                    160384 non-null  bool  \n",
      " 8   city8                    160384 non-null  bool  \n",
      " 9   city7                    160384 non-null  bool  \n",
      " 10  city6                    160384 non-null  bool  \n",
      " 11  city5                    160384 non-null  bool  \n",
      " 12  city4                    160384 non-null  bool  \n",
      " 13  city3                    160384 non-null  bool  \n",
      " 14  city2                    160384 non-null  bool  \n",
      " 15  city12                   160384 non-null  bool  \n",
      " 16  city13                   160384 non-null  bool  \n",
      " 17  city1                    160384 non-null  bool  \n",
      " 18  Invitation_Type_private  160384 non-null  uint8 \n",
      " 19  Invitation_Type_public   160384 non-null  uint8 \n",
      " 20  invitations_group        160384 non-null  object\n",
      " 21  booklet_price_group      160384 non-null  object\n",
      " 22  Estimatedvalue_group     160384 non-null  object\n",
      "dtypes: bool(13), int64(2), object(6), uint8(2)\n",
      "memory usage: 13.3+ MB\n"
     ]
    }
   ],
   "source": [
    "df.info()"
   ]
  },
  {
   "cell_type": "code",
   "execution_count": 54,
   "id": "aed0a00b",
   "metadata": {},
   "outputs": [
    {
     "name": "stdout",
     "output_type": "stream",
     "text": [
      "<class 'pandas.core.frame.DataFrame'>\n",
      "Int64Index: 160384 entries, 0 to 160731\n",
      "Columns: 124 entries, Tender Type to Activity_Name__wear making\n",
      "dtypes: bool(13), int64(2), object(5), uint8(104)\n",
      "memory usage: 27.7+ MB\n"
     ]
    }
   ],
   "source": [
    "df2=df\n",
    "df=pd.get_dummies(df,columns=[\"Activity Name\"], prefix='Activity_Name_')\n",
    "df.info()"
   ]
  },
  {
   "cell_type": "code",
   "execution_count": 55,
   "id": "5b096123",
   "metadata": {},
   "outputs": [],
   "source": [
    "#df.drop(axis=1,inplace=True,columns=[\"Activity Name\"])"
   ]
  },
  {
   "cell_type": "code",
   "execution_count": 56,
   "id": "486daee9",
   "metadata": {},
   "outputs": [
    {
     "data": {
      "text/plain": [
       "0    103364\n",
       "1     57020\n",
       "Name: Status, dtype: int64"
      ]
     },
     "execution_count": 56,
     "metadata": {},
     "output_type": "execute_result"
    }
   ],
   "source": [
    "def convert_status(text):\n",
    "    if text==\"completed\":\n",
    "        return 0\n",
    "    else:\n",
    "        return 1\n",
    "df[\"Status\"]=0\n",
    "df[\"Status\"]=df[\"Tender Status\"].apply(convert_status)\n",
    "df[\"Status\"].value_counts()"
   ]
  },
  {
   "cell_type": "code",
   "execution_count": 57,
   "id": "5ae5ec9a",
   "metadata": {},
   "outputs": [],
   "source": [
    "df.drop(axis=1,inplace=True,columns=[\"Tender Status\"])\n",
    "df=pd.get_dummies(df,columns=[\"Tender Type\"], prefix='Tender_Type',drop_first=True)"
   ]
  },
  {
   "cell_type": "code",
   "execution_count": 58,
   "id": "b723ad52",
   "metadata": {},
   "outputs": [],
   "source": [
    "df=pd.get_dummies(df,columns=[\"Estimatedvalue_group\",\"booklet_price_group\",\"invitations_group\"])"
   ]
  },
  {
   "cell_type": "code",
   "execution_count": 59,
   "id": "92064468",
   "metadata": {},
   "outputs": [
    {
     "name": "stdout",
     "output_type": "stream",
     "text": [
      "Linear Regression score: 0.7188156910250472\n",
      "Linear Regression recall:\n",
      "               precision    recall  f1-score   support\n",
      "\n",
      "           0       0.71      0.96      0.81     17984\n",
      "           1       0.80      0.29      0.43     10083\n",
      "\n",
      "    accuracy                           0.72     28067\n",
      "   macro avg       0.75      0.62      0.62     28067\n",
      "weighted avg       0.74      0.72      0.67     28067\n",
      "\n"
     ]
    }
   ],
   "source": [
    "from sklearn.linear_model import LogisticRegression\n",
    "from sklearn.model_selection import train_test_split\n",
    "from sklearn.preprocessing import StandardScaler,MinMaxScaler,RobustScaler \n",
    "from sklearn.neighbors import KNeighborsClassifier\n",
    "from sklearn import metrics\n",
    "X=df.loc[:, df.columns != 'Status']\n",
    "y=df[\"Status\"]\n",
    "X, X_test, y, y_test = train_test_split(X, y, test_size=.3, random_state=1000)\n",
    "X_train, X_val, y_train, y_val = train_test_split(X, y, test_size=.25, random_state=3000)\n",
    "scaler = StandardScaler()\n",
    "X_train = scaler.fit_transform(X_train.values)\n",
    "X_val = scaler.transform(X_val.values)\n",
    "X_test = scaler.transform(X_test.values)\n",
    "lg = LogisticRegression().fit(X_train, y_train)\n",
    "y_pred_val=lg.predict(X_val)\n",
    "print('Linear Regression score:',lg.score(X_val, y_val))\n",
    "print('Linear Regression recall:\\n',metrics.classification_report( y_val,y_pred_val))"
   ]
  },
  {
   "cell_type": "code",
   "execution_count": 29,
   "id": "6c79259a",
   "metadata": {},
   "outputs": [
    {
     "data": {
      "text/plain": [
       "0.35552174780526735"
      ]
     },
     "execution_count": 29,
     "metadata": {},
     "output_type": "execute_result"
    }
   ],
   "source": [
    "df[\"Status\"].mean()"
   ]
  },
  {
   "cell_type": "code",
   "execution_count": 60,
   "id": "e597d717",
   "metadata": {},
   "outputs": [
    {
     "name": "stdout",
     "output_type": "stream",
     "text": [
      "LogisticRegression F1 Mean: 0.6224009616511178\n",
      "DecisionTree F1v Mean: 0.6639798352087027\n",
      "KNeighborsClassifier F1 Mean: 0.6481574351031657\n",
      "[18:02:13] WARNING: C:/Users/Administrator/workspace/xgboost-win64_release_1.5.1/src/learner.cc:1115: Starting in XGBoost 1.3.0, the default evaluation metric used with the objective 'binary:logistic' was changed from 'error' to 'logloss'. Explicitly set eval_metric if you'd like to restore the old behavior.\n",
      "[18:02:18] WARNING: C:/Users/Administrator/workspace/xgboost-win64_release_1.5.1/src/learner.cc:1115: Starting in XGBoost 1.3.0, the default evaluation metric used with the objective 'binary:logistic' was changed from 'error' to 'logloss'. Explicitly set eval_metric if you'd like to restore the old behavior.\n",
      "[18:02:25] WARNING: C:/Users/Administrator/workspace/xgboost-win64_release_1.5.1/src/learner.cc:1115: Starting in XGBoost 1.3.0, the default evaluation metric used with the objective 'binary:logistic' was changed from 'error' to 'logloss'. Explicitly set eval_metric if you'd like to restore the old behavior.\n",
      "[18:02:32] WARNING: C:/Users/Administrator/workspace/xgboost-win64_release_1.5.1/src/learner.cc:1115: Starting in XGBoost 1.3.0, the default evaluation metric used with the objective 'binary:logistic' was changed from 'error' to 'logloss'. Explicitly set eval_metric if you'd like to restore the old behavior.\n",
      "[18:02:39] WARNING: C:/Users/Administrator/workspace/xgboost-win64_release_1.5.1/src/learner.cc:1115: Starting in XGBoost 1.3.0, the default evaluation metric used with the objective 'binary:logistic' was changed from 'error' to 'logloss'. Explicitly set eval_metric if you'd like to restore the old behavior.\n",
      "XGBClassifier F1 Mean: 0.6491495494709578\n",
      "LogisticRegression Precision Mean: 0.7537814782115687\n",
      "DecisionTree Precision Mean: 0.7324239557171733\n",
      "KNeighborsClassifier Precision Mean: 0.6689123166636011\n",
      "[18:06:15] WARNING: C:/Users/Administrator/workspace/xgboost-win64_release_1.5.1/src/learner.cc:1115: Starting in XGBoost 1.3.0, the default evaluation metric used with the objective 'binary:logistic' was changed from 'error' to 'logloss'. Explicitly set eval_metric if you'd like to restore the old behavior.\n",
      "[18:06:21] WARNING: C:/Users/Administrator/workspace/xgboost-win64_release_1.5.1/src/learner.cc:1115: Starting in XGBoost 1.3.0, the default evaluation metric used with the objective 'binary:logistic' was changed from 'error' to 'logloss'. Explicitly set eval_metric if you'd like to restore the old behavior.\n",
      "[18:06:27] WARNING: C:/Users/Administrator/workspace/xgboost-win64_release_1.5.1/src/learner.cc:1115: Starting in XGBoost 1.3.0, the default evaluation metric used with the objective 'binary:logistic' was changed from 'error' to 'logloss'. Explicitly set eval_metric if you'd like to restore the old behavior.\n",
      "[18:06:34] WARNING: C:/Users/Administrator/workspace/xgboost-win64_release_1.5.1/src/learner.cc:1115: Starting in XGBoost 1.3.0, the default evaluation metric used with the objective 'binary:logistic' was changed from 'error' to 'logloss'. Explicitly set eval_metric if you'd like to restore the old behavior.\n",
      "[18:06:41] WARNING: C:/Users/Administrator/workspace/xgboost-win64_release_1.5.1/src/learner.cc:1115: Starting in XGBoost 1.3.0, the default evaluation metric used with the objective 'binary:logistic' was changed from 'error' to 'logloss'. Explicitly set eval_metric if you'd like to restore the old behavior.\n",
      "XGBClassifier Precision Mean: 0.7681275291530445\n",
      "LogisticRegression Recall Mean: 0.6258712823202142\n",
      "DecisionTree Recall Mean: 0.6568524942554237\n",
      "KNeighborsClassifier Recall Mean: 0.6430895733044583\n",
      "[18:10:17] WARNING: C:/Users/Administrator/workspace/xgboost-win64_release_1.5.1/src/learner.cc:1115: Starting in XGBoost 1.3.0, the default evaluation metric used with the objective 'binary:logistic' was changed from 'error' to 'logloss'. Explicitly set eval_metric if you'd like to restore the old behavior.\n",
      "[18:10:23] WARNING: C:/Users/Administrator/workspace/xgboost-win64_release_1.5.1/src/learner.cc:1115: Starting in XGBoost 1.3.0, the default evaluation metric used with the objective 'binary:logistic' was changed from 'error' to 'logloss'. Explicitly set eval_metric if you'd like to restore the old behavior.\n",
      "[18:10:29] WARNING: C:/Users/Administrator/workspace/xgboost-win64_release_1.5.1/src/learner.cc:1115: Starting in XGBoost 1.3.0, the default evaluation metric used with the objective 'binary:logistic' was changed from 'error' to 'logloss'. Explicitly set eval_metric if you'd like to restore the old behavior.\n",
      "[18:10:35] WARNING: C:/Users/Administrator/workspace/xgboost-win64_release_1.5.1/src/learner.cc:1115: Starting in XGBoost 1.3.0, the default evaluation metric used with the objective 'binary:logistic' was changed from 'error' to 'logloss'. Explicitly set eval_metric if you'd like to restore the old behavior.\n",
      "[18:10:41] WARNING: C:/Users/Administrator/workspace/xgboost-win64_release_1.5.1/src/learner.cc:1115: Starting in XGBoost 1.3.0, the default evaluation metric used with the objective 'binary:logistic' was changed from 'error' to 'logloss'. Explicitly set eval_metric if you'd like to restore the old behavior.\n",
      "XGBClassifier Recall Mean: 0.6462269388614335\n"
     ]
    }
   ],
   "source": [
    "kf = KFold(n_splits=5, shuffle=True, random_state = 1000)\n",
    "lg=LogisticRegression()\n",
    "dt= DecisionTreeClassifier()\n",
    "knn = KNeighborsClassifier(n_neighbors=5)\n",
    "xgbc = xgb.XGBClassifier()\n",
    "rm=RandomForestClassifier()\n",
    "print(\"LogisticRegression F1 Mean:\",np.mean(cross_val_score(lg, X, y, cv=kf, scoring='f1_macro')))\n",
    "print(\"DecisionTree F1 Mean:\",np.mean(cross_val_score(dt, X, y, cv=kf, scoring='f1_macro')))\n",
    "print(\"KNeighborsClassifier F1 Mean:\",np.mean(cross_val_score(knn, X, y, cv=kf, scoring='f1_macro')))\n",
    "print(\"XGBClassifier F1 Mean:\",np.mean(cross_val_score(xgbc, X, y, cv=kf, scoring='f1_macro')))\n",
    "#print(\"RandomForestClassifier Recall Mean:\",np.mean(cross_val_score(rm, X, y, cv=kf, scoring='f1_macro')))\n",
    "\n",
    "print(\"LogisticRegression Precision Mean:\",np.mean(cross_val_score(lg, X, y, cv=kf, scoring='precision_macro')))\n",
    "print(\"DecisionTree Precision Mean:\",np.mean(cross_val_score(dt, X, y, cv=kf, scoring='precision_macro')))\n",
    "print(\"KNeighborsClassifier Precision Mean:\",np.mean(cross_val_score(knn, X, y, cv=kf, scoring='precision_macro')))\n",
    "print(\"XGBClassifier Precision Mean:\",np.mean(cross_val_score(xgbc, X, y, cv=kf, scoring='precision_macro')))\n",
    "#print(\"RandomForestClassifier Recall Mean:\",np.mean(cross_val_score(rm, X, y, cv=kf, scoring='precision_macro')))\n",
    "\n",
    "print(\"LogisticRegression Recall Mean:\",np.mean(cross_val_score(lg, X, y, cv=kf, scoring='recall_macro')))\n",
    "print(\"DecisionTree Recall Mean:\",np.mean(cross_val_score(dt, X, y, cv=kf, scoring='recall_macro')))\n",
    "print(\"KNeighborsClassifier Recall Mean:\",np.mean(cross_val_score(knn, X, y, cv=kf, scoring='recall_macro')))\n",
    "print(\"XGBClassifier Recall Mean:\",np.mean(cross_val_score(xgbc, X, y, cv=kf, scoring='recall_macro')))\n",
    "#print(\"RandomForestClassifier Recall Mean:\",np.mean(cross_val_score(rm, X, y, cv=kf, scoring='recall_macro')))"
   ]
  },
  {
   "cell_type": "code",
   "execution_count": 61,
   "id": "f6cfda37",
   "metadata": {},
   "outputs": [
    {
     "name": "stdout",
     "output_type": "stream",
     "text": [
      "Fitting 5 folds for each of 100 candidates, totalling 500 fits\n"
     ]
    },
    {
     "data": {
      "text/plain": [
       "RandomizedSearchCV(cv=5, estimator=DecisionTreeClassifier(), n_iter=100,\n",
       "                   n_jobs=-1,\n",
       "                   param_distributions={'criterion': ['gini', 'entropy'],\n",
       "                                        'max_depth': [10, 20, 30, 40, 50, 60,\n",
       "                                                      70, 80, 90, 100, None],\n",
       "                                        'max_features': ['auto', 'sqrt', 'log2',\n",
       "                                                         None],\n",
       "                                        'min_samples_leaf': [1, 2, 4],\n",
       "                                        'min_samples_split': [2, 5, 10]},\n",
       "                   random_state=42, scoring='recall_macro', verbose=2)"
      ]
     },
     "execution_count": 61,
     "metadata": {},
     "output_type": "execute_result"
    }
   ],
   "source": [
    "from sklearn.model_selection import RandomizedSearchCV,GridSearchCV\n",
    "\n",
    "dt = DecisionTreeClassifier()\n",
    "random_grid={\n",
    "    #'bootstrap': [True, False],\n",
    " 'max_depth': [10, 20, 30, 40, 50, 60, 70, 80, 90, 100, None],\n",
    " 'max_features': ['auto', 'sqrt', 'log2',None],\n",
    " 'min_samples_leaf': [1, 2, 4],\n",
    "    'criterion' :['gini', 'entropy'],\n",
    " 'min_samples_split': [2, 5, 10]#,\n",
    " #'n_estimators': [200, 400, 600, 800, 1000, 1200, 1400, 1600, 1800, 2000]\n",
    "            }\n",
    "CV__Randdt = RandomizedSearchCV(estimator=dt, param_distributions = random_grid, n_iter = 100, cv = 5, verbose=2, random_state=42, n_jobs = -1,scoring=\"recall_macro\")\n",
    "CV__Randdt.fit(X_train, y_train)"
   ]
  },
  {
   "cell_type": "code",
   "execution_count": 70,
   "id": "edeed0ae",
   "metadata": {},
   "outputs": [
    {
     "name": "stdout",
     "output_type": "stream",
     "text": [
      "DecisionTree Score in validation \n",
      "               precision    recall  f1-score   support\n",
      "\n",
      "           0       0.73      0.92      0.81     17984\n",
      "           1       0.74      0.40      0.51     10083\n",
      "\n",
      "    accuracy                           0.73     28067\n",
      "   macro avg       0.73      0.66      0.66     28067\n",
      "weighted avg       0.73      0.73      0.71     28067\n",
      "\n",
      "DecisionTree Score in test \n",
      "               precision    recall  f1-score   support\n",
      "\n",
      "           0       0.73      0.92      0.81     31005\n",
      "           1       0.72      0.39      0.50     17111\n",
      "\n",
      "    accuracy                           0.73     48116\n",
      "   macro avg       0.73      0.65      0.66     48116\n",
      "weighted avg       0.73      0.73      0.70     48116\n",
      "\n"
     ]
    }
   ],
   "source": [
    "y_pred_val=CV__Randdt.predict(X_val)\n",
    "print(\"DecisionTree Score in validation \\n\",metrics.classification_report(y_val, y_pred_val))\n",
    "y_pred_test=CV__Randdt.predict(X_test)\n",
    "print(\"DecisionTree Score in test \\n\",metrics.classification_report(y_test, y_pred_test))"
   ]
  },
  {
   "cell_type": "code",
   "execution_count": 63,
   "id": "668e0f3e",
   "metadata": {},
   "outputs": [
    {
     "data": {
      "text/plain": [
       "{'min_samples_split': 2,\n",
       " 'min_samples_leaf': 1,\n",
       " 'max_features': None,\n",
       " 'max_depth': 90,\n",
       " 'criterion': 'entropy'}"
      ]
     },
     "execution_count": 63,
     "metadata": {},
     "output_type": "execute_result"
    }
   ],
   "source": [
    "CV__Randdt.best_params_"
   ]
  },
  {
   "cell_type": "code",
   "execution_count": 65,
   "id": "cc4e68bb",
   "metadata": {},
   "outputs": [
    {
     "data": {
      "text/plain": [
       "DecisionTreeClassifier(criterion='entropy', max_depth=90)"
      ]
     },
     "execution_count": 65,
     "metadata": {},
     "output_type": "execute_result"
    }
   ],
   "source": [
    "dt=DecisionTreeClassifier(criterion='entropy',\n",
    " max_depth= 90,\n",
    " max_features=None,\n",
    " min_samples_leaf=1,\n",
    " min_samples_split= 2)\n",
    "dt.fit(X_train,y_train)"
   ]
  },
  {
   "cell_type": "code",
   "execution_count": 39,
   "id": "5e1e2e3f",
   "metadata": {},
   "outputs": [
    {
     "data": {
      "text/plain": [
       "array(['categories_count', 'regions_count', 'city11', 'city10', 'city9',\n",
       "       'city8', 'city7', 'city6', 'city5', 'city4', 'city3', 'city2',\n",
       "       'city12', 'city13', 'city1', 'Invitation_Type_private',\n",
       "       'Invitation_Type_public',\n",
       "       'Activity_Name__ Manufacture of machinery and equipment not elsewhere classified',\n",
       "       'Activity_Name__ Trading of home furniture, furnishings, curtains and carpets',\n",
       "       'Activity_Name__Agricultural Trade'], dtype=object)"
      ]
     },
     "execution_count": 39,
     "metadata": {},
     "output_type": "execute_result"
    }
   ],
   "source": [
    "np.array(df.columns)[0:20]"
   ]
  },
  {
   "cell_type": "code",
   "execution_count": 66,
   "id": "451ef56f",
   "metadata": {},
   "outputs": [
    {
     "data": {
      "text/html": [
       "<div>\n",
       "<style scoped>\n",
       "    .dataframe tbody tr th:only-of-type {\n",
       "        vertical-align: middle;\n",
       "    }\n",
       "\n",
       "    .dataframe tbody tr th {\n",
       "        vertical-align: top;\n",
       "    }\n",
       "\n",
       "    .dataframe thead th {\n",
       "        text-align: right;\n",
       "    }\n",
       "</style>\n",
       "<table border=\"1\" class=\"dataframe\">\n",
       "  <thead>\n",
       "    <tr style=\"text-align: right;\">\n",
       "      <th></th>\n",
       "      <th>name</th>\n",
       "      <th>score</th>\n",
       "    </tr>\n",
       "  </thead>\n",
       "  <tbody>\n",
       "    <tr>\n",
       "      <th>131</th>\n",
       "      <td>Estimatedvalue_group_no_Estimatedvalue</td>\n",
       "      <td>0.301019</td>\n",
       "    </tr>\n",
       "    <tr>\n",
       "      <th>139</th>\n",
       "      <td>invitations_group_invitations_less_50</td>\n",
       "      <td>0.077039</td>\n",
       "    </tr>\n",
       "    <tr>\n",
       "      <th>0</th>\n",
       "      <td>categories_count</td>\n",
       "      <td>0.069769</td>\n",
       "    </tr>\n",
       "    <tr>\n",
       "      <th>120</th>\n",
       "      <td>Tender_Type_General tender</td>\n",
       "      <td>0.056894</td>\n",
       "    </tr>\n",
       "    <tr>\n",
       "      <th>141</th>\n",
       "      <td>invitations_group_no_invitations</td>\n",
       "      <td>0.028263</td>\n",
       "    </tr>\n",
       "    <tr>\n",
       "      <th>...</th>\n",
       "      <td>...</td>\n",
       "      <td>...</td>\n",
       "    </tr>\n",
       "    <tr>\n",
       "      <th>123</th>\n",
       "      <td>Tender_Type_Post qualification</td>\n",
       "      <td>0.000000</td>\n",
       "    </tr>\n",
       "    <tr>\n",
       "      <th>114</th>\n",
       "      <td>Activity_Name__the hunt</td>\n",
       "      <td>0.000000</td>\n",
       "    </tr>\n",
       "    <tr>\n",
       "      <th>93</th>\n",
       "      <td>Activity_Name__customs clearance services</td>\n",
       "      <td>0.000000</td>\n",
       "    </tr>\n",
       "    <tr>\n",
       "      <th>26</th>\n",
       "      <td>Activity_Name__Coal and firewood trade</td>\n",
       "      <td>0.000000</td>\n",
       "    </tr>\n",
       "    <tr>\n",
       "      <th>21</th>\n",
       "      <td>Activity_Name__Barbering services for men and ...</td>\n",
       "      <td>0.000000</td>\n",
       "    </tr>\n",
       "  </tbody>\n",
       "</table>\n",
       "<p>142 rows × 2 columns</p>\n",
       "</div>"
      ],
      "text/plain": [
       "                                                  name     score\n",
       "131             Estimatedvalue_group_no_Estimatedvalue  0.301019\n",
       "139              invitations_group_invitations_less_50  0.077039\n",
       "0                                     categories_count  0.069769\n",
       "120                         Tender_Type_General tender  0.056894\n",
       "141                   invitations_group_no_invitations  0.028263\n",
       "..                                                 ...       ...\n",
       "123                     Tender_Type_Post qualification  0.000000\n",
       "114                            Activity_Name__the hunt  0.000000\n",
       "93           Activity_Name__customs clearance services  0.000000\n",
       "26              Activity_Name__Coal and firewood trade  0.000000\n",
       "21   Activity_Name__Barbering services for men and ...  0.000000\n",
       "\n",
       "[142 rows x 2 columns]"
      ]
     },
     "execution_count": 66,
     "metadata": {},
     "output_type": "execute_result"
    }
   ],
   "source": [
    "df_fetures_importance=pd.DataFrame(fetures_importance)\n",
    "df_fetures_importance.sort_values(by=[\"score\"],ascending=False)"
   ]
  },
  {
   "cell_type": "code",
   "execution_count": 68,
   "id": "32f6d598",
   "metadata": {},
   "outputs": [
    {
     "data": {
      "image/png": "[encoded data removed]",
      "text/plain": [
       "<Figure size 720x720 with 1 Axes>"
      ]
     },
     "metadata": {
      "needs_background": "light"
     },
     "output_type": "display_data"
    },
    {
     "data": {
      "text/plain": [
       "<Figure size 432x288 with 0 Axes>"
      ]
     },
     "metadata": {},
     "output_type": "display_data"
    }
   ],
   "source": [
    "top10=df_fetures_importance.nlargest(10, 'score')\n",
    "plt.figure(figsize=(10, 10))\n",
    "plt.bar(top10[\"name\"], top10[\"score\"])\n",
    "plt.xticks(rotation=90)\n",
    "plt.title(\"Top 10 Imortant Model Features\")\n",
    "plt.show()\n",
    "plt.savefig('Top 10 Imortant Model Features.png')"
   ]
  },
  {
   "cell_type": "code",
   "execution_count": null,
   "id": "4896b0d4",
   "metadata": {},
   "outputs": [],
   "source": []
  }
 ],
 "metadata": {
  "kernelspec": {
   "display_name": "Python 3",
   "language": "python",
   "name": "python3"
  }
 },
 "nbformat": 4,
 "nbformat_minor": 5
}
